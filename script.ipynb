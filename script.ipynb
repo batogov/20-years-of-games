{
 "cells": [
  {
   "cell_type": "markdown",
   "metadata": {},
   "source": [
    "# Explore 20 Years of Games"
   ]
  },
  {
   "cell_type": "code",
   "execution_count": 1,
   "metadata": {
    "_cell_guid": "50083dec-8629-eda9-18a4-51118d3f9b11"
   },
   "outputs": [],
   "source": [
    "import pandas as pd\n",
    "import matplotlib.pyplot as plt\n",
    "%matplotlib inline\n",
    "\n",
    "import seaborn as sns\n",
    "sns.set(style=\"whitegrid\")\n",
    "\n",
    "from collections import Counter"
   ]
  },
  {
   "cell_type": "code",
   "execution_count": 2,
   "metadata": {
    "_cell_guid": "9802e013-3340-1335-d623-7ba64317be2f"
   },
   "outputs": [],
   "source": [
    "data = pd.read_csv('./ign.csv', index_col=0)"
   ]
  },
  {
   "cell_type": "markdown",
   "metadata": {
    "_cell_guid": "c27e1e17-8e3c-eda2-1bae-c267b22ca757"
   },
   "source": [
    "## Data overview"
   ]
  },
  {
   "cell_type": "code",
   "execution_count": 3,
   "metadata": {
    "_cell_guid": "fdefa5b1-ece6-0fc8-9604-b1f2a4d44db5"
   },
   "outputs": [
    {
     "data": {
      "text/html": [
       "<div>\n",
       "<style scoped>\n",
       "    .dataframe tbody tr th:only-of-type {\n",
       "        vertical-align: middle;\n",
       "    }\n",
       "\n",
       "    .dataframe tbody tr th {\n",
       "        vertical-align: top;\n",
       "    }\n",
       "\n",
       "    .dataframe thead th {\n",
       "        text-align: right;\n",
       "    }\n",
       "</style>\n",
       "<table border=\"1\" class=\"dataframe\">\n",
       "  <thead>\n",
       "    <tr style=\"text-align: right;\">\n",
       "      <th></th>\n",
       "      <th>score_phrase</th>\n",
       "      <th>title</th>\n",
       "      <th>url</th>\n",
       "      <th>platform</th>\n",
       "      <th>score</th>\n",
       "      <th>genre</th>\n",
       "      <th>editors_choice</th>\n",
       "      <th>release_year</th>\n",
       "      <th>release_month</th>\n",
       "      <th>release_day</th>\n",
       "    </tr>\n",
       "  </thead>\n",
       "  <tbody>\n",
       "    <tr>\n",
       "      <th>0</th>\n",
       "      <td>Amazing</td>\n",
       "      <td>LittleBigPlanet PS Vita</td>\n",
       "      <td>/games/littlebigplanet-vita/vita-98907</td>\n",
       "      <td>PlayStation Vita</td>\n",
       "      <td>9.0</td>\n",
       "      <td>Platformer</td>\n",
       "      <td>Y</td>\n",
       "      <td>2012</td>\n",
       "      <td>9</td>\n",
       "      <td>12</td>\n",
       "    </tr>\n",
       "    <tr>\n",
       "      <th>1</th>\n",
       "      <td>Amazing</td>\n",
       "      <td>LittleBigPlanet PS Vita -- Marvel Super Hero E...</td>\n",
       "      <td>/games/littlebigplanet-ps-vita-marvel-super-he...</td>\n",
       "      <td>PlayStation Vita</td>\n",
       "      <td>9.0</td>\n",
       "      <td>Platformer</td>\n",
       "      <td>Y</td>\n",
       "      <td>2012</td>\n",
       "      <td>9</td>\n",
       "      <td>12</td>\n",
       "    </tr>\n",
       "  </tbody>\n",
       "</table>\n",
       "</div>"
      ],
      "text/plain": [
       "  score_phrase                                              title  \\\n",
       "0      Amazing                            LittleBigPlanet PS Vita   \n",
       "1      Amazing  LittleBigPlanet PS Vita -- Marvel Super Hero E...   \n",
       "\n",
       "                                                 url          platform  score  \\\n",
       "0             /games/littlebigplanet-vita/vita-98907  PlayStation Vita    9.0   \n",
       "1  /games/littlebigplanet-ps-vita-marvel-super-he...  PlayStation Vita    9.0   \n",
       "\n",
       "        genre editors_choice  release_year  release_month  release_day  \n",
       "0  Platformer              Y          2012              9           12  \n",
       "1  Platformer              Y          2012              9           12  "
      ]
     },
     "execution_count": 3,
     "metadata": {},
     "output_type": "execute_result"
    }
   ],
   "source": [
    "data.head(2)"
   ]
  },
  {
   "cell_type": "code",
   "execution_count": 4,
   "metadata": {
    "_cell_guid": "40f49688-ae8b-a912-81c4-82fe77d8006e"
   },
   "outputs": [
    {
     "name": "stdout",
     "output_type": "stream",
     "text": [
      "<class 'pandas.core.frame.DataFrame'>\n",
      "Int64Index: 18625 entries, 0 to 18624\n",
      "Data columns (total 10 columns):\n",
      "score_phrase      18625 non-null object\n",
      "title             18625 non-null object\n",
      "url               18625 non-null object\n",
      "platform          18625 non-null object\n",
      "score             18625 non-null float64\n",
      "genre             18589 non-null object\n",
      "editors_choice    18625 non-null object\n",
      "release_year      18625 non-null int64\n",
      "release_month     18625 non-null int64\n",
      "release_day       18625 non-null int64\n",
      "dtypes: float64(1), int64(3), object(6)\n",
      "memory usage: 1.6+ MB\n"
     ]
    }
   ],
   "source": [
    "data.info()"
   ]
  },
  {
   "cell_type": "markdown",
   "metadata": {
    "_cell_guid": "dd371757-e2ad-7904-e423-f9eb7eec2f65"
   },
   "source": [
    "## Score"
   ]
  },
  {
   "cell_type": "code",
   "execution_count": 5,
   "metadata": {
    "_cell_guid": "47da0c8c-8245-57d6-d749-9afda8d47939"
   },
   "outputs": [],
   "source": [
    "score_counts = data['score_phrase'].value_counts()"
   ]
  },
  {
   "cell_type": "code",
   "execution_count": 6,
   "metadata": {
    "_cell_guid": "35973577-c73f-b4ed-77a2-8f8ab685e530"
   },
   "outputs": [],
   "source": [
    "ordered_score = ['Disaster', 'Unbearable' ,'Painful' ,'Awful' ,'Bad', 'Mediocre', \n",
    "                 'Okay' ,'Good' ,'Great', 'Amazing', 'Masterpiece']\n",
    "counts = []\n",
    "for score in ordered_score:\n",
    "    counts.append(score_counts[score])"
   ]
  },
  {
   "cell_type": "code",
   "execution_count": 7,
   "metadata": {
    "_cell_guid": "b7eac18a-ed00-6037-9c85-e2f7a824fd3f"
   },
   "outputs": [
    {
     "data": {
      "image/png": "[encoded data removed]",
      "text/plain": [
       "<matplotlib.figure.Figure at 0x117fbeac8>"
      ]
     },
     "metadata": {},
     "output_type": "display_data"
    }
   ],
   "source": [
    "fig, ax = plt.subplots(figsize=(11, 4))\n",
    "sns.barplot(x=ordered_score, y=counts, color='#833ab4')\n",
    "ax.set(ylabel=\"Count\", xlabel=\"Score\")\n",
    "ticks = plt.setp(ax.get_xticklabels(), rotation=30, fontsize=9)"
   ]
  },
  {
   "cell_type": "markdown",
   "metadata": {
    "_cell_guid": "ecf0c379-50c2-3b53-7542-73dce03cb668"
   },
   "source": [
    "## Generations"
   ]
  },
  {
   "cell_type": "code",
   "execution_count": 8,
   "metadata": {
    "_cell_guid": "c4a6f564-028f-cf96-1e3b-7ed83daad6cc"
   },
   "outputs": [],
   "source": [
    "def get_platform_type(platform):    \n",
    "    if platform in ['Nintendo 64', 'PlayStation']:\n",
    "        return 'Fifth generation'\n",
    "    elif platform in ['Dreamcast', 'PlayStation 2', 'GameCube', 'Xbox']:\n",
    "        return 'Sixth generation'\n",
    "    elif platform in ['Xbox 360', 'PlayStation 3', 'Wii', 'Nintendo DS', 'PlayStation Portable']:\n",
    "        return 'Seventh generation'\n",
    "    elif platform in ['Wii U', 'PlayStation 4', 'Xbox One', 'Nintendo 3DS', 'PlayStation Vita']:\n",
    "        return 'Eighth generation'\n",
    "    else:\n",
    "        return 'Other'\n",
    "\n",
    "data['platform_type'] = data['platform'].apply(get_platform_type)"
   ]
  },
  {
   "cell_type": "markdown",
   "metadata": {
    "_cell_guid": "541720c1-446b-c244-758b-f4064e113a0d"
   },
   "source": [
    "### Fifth generation"
   ]
  },
  {
   "cell_type": "code",
   "execution_count": 9,
   "metadata": {
    "_cell_guid": "fc1ca48f-c105-76b8-d6e3-1aa25c54a026"
   },
   "outputs": [
    {
     "data": {
      "image/png": "[encoded data removed]",
      "text/plain": [
       "<matplotlib.figure.Figure at 0x117ff7668>"
      ]
     },
     "metadata": {},
     "output_type": "display_data"
    }
   ],
   "source": [
    "current_data = dict(data[data['platform_type'] == 'Fifth generation']['platform'].value_counts())\n",
    "\n",
    "f, ax = plt.subplots(figsize=(4, 4))\n",
    "labels = list(current_data.keys())\n",
    "colors = ['#ffdc80', '#fcaf45']\n",
    "plt.pie(list(current_data.values()), \n",
    "        labels=labels, colors=colors, autopct='%1.1f%%', startangle=90)\n",
    "axis = plt.axis('equal')"
   ]
  },
  {
   "cell_type": "markdown",
   "metadata": {
    "_cell_guid": "72e06310-53df-4b46-ee7e-00eab35c109c"
   },
   "source": [
    "### Sixth generation"
   ]
  },
  {
   "cell_type": "code",
   "execution_count": 10,
   "metadata": {
    "_cell_guid": "d4f222e7-96d3-8be3-c648-dfcbb2c4bcc4"
   },
   "outputs": [
    {
     "data": {
      "image/png": "[encoded data removed]",
      "text/plain": [
       "<matplotlib.figure.Figure at 0x11419f588>"
      ]
     },
     "metadata": {},
     "output_type": "display_data"
    }
   ],
   "source": [
    "current_data = dict(data[data['platform_type'] == 'Sixth generation']['platform'].value_counts())\n",
    "\n",
    "f, ax = plt.subplots(figsize=(4, 4))\n",
    "labels = list(current_data.keys())\n",
    "colors = ['#ffdc80', '#fcaf45', '#f56040', '#e1306c']\n",
    "plt.pie(list(current_data.values()), \n",
    "        labels=labels, colors=colors, autopct='%1.1f%%', startangle=90)\n",
    "axis = plt.axis('equal')"
   ]
  },
  {
   "cell_type": "markdown",
   "metadata": {
    "_cell_guid": "d569522b-b49c-069c-9f6d-b740c9c1aa4c"
   },
   "source": [
    "### Seventh generation"
   ]
  },
  {
   "cell_type": "code",
   "execution_count": 11,
   "metadata": {
    "_cell_guid": "3bd4b731-643f-87e9-0391-964f28c076c8"
   },
   "outputs": [
    {
     "data": {
      "image/png": "[encoded data removed]",
      "text/plain": [
       "<matplotlib.figure.Figure at 0x117fbea58>"
      ]
     },
     "metadata": {},
     "output_type": "display_data"
    }
   ],
   "source": [
    "current_data = dict(data[data['platform_type'] == 'Seventh generation']['platform'].value_counts())\n",
    "\n",
    "f, ax = plt.subplots(figsize=(4, 4))\n",
    "labels = list(current_data.keys())\n",
    "colors = ['#ffdc80', '#fcaf45', '#f56040', '#e1306c', '#c13584']\n",
    "plt.pie(list(current_data.values()), \n",
    "        labels=labels, colors=colors, autopct='%1.1f%%', startangle=90)\n",
    "axis = plt.axis('equal')"
   ]
  },
  {
   "cell_type": "markdown",
   "metadata": {
    "_cell_guid": "310b8b0b-3a0c-b2ef-7c58-f9a47cae8d2a"
   },
   "source": [
    "### Eighth generation"
   ]
  },
  {
   "cell_type": "code",
   "execution_count": 12,
   "metadata": {
    "_cell_guid": "453405b0-685a-37c0-90c5-46d8dd23d00b"
   },
   "outputs": [
    {
     "data": {
      "image/png": "[encoded data removed]",
      "text/plain": [
       "<matplotlib.figure.Figure at 0x117fea0b8>"
      ]
     },
     "metadata": {},
     "output_type": "display_data"
    }
   ],
   "source": [
    "current_data = dict(data[data['platform_type'] == 'Eighth generation']['platform'].value_counts())\n",
    "\n",
    "f, ax = plt.subplots(figsize=(4, 4))\n",
    "labels = list(current_data.keys())\n",
    "colors = ['#ffdc80', '#fcaf45', '#f56040', '#e1306c', '#c13584']\n",
    "plt.pie(list(current_data.values()), \n",
    "        labels=labels, colors=colors, autopct='%1.1f%%', startangle=90)\n",
    "axis = plt.axis('equal')"
   ]
  },
  {
   "cell_type": "markdown",
   "metadata": {
    "_cell_guid": "35f0cfdc-eff5-126e-fe92-2d72d78fe774"
   },
   "source": [
    "## Editors choice"
   ]
  },
  {
   "cell_type": "code",
   "execution_count": 13,
   "metadata": {
    "_cell_guid": "9cb9d804-5540-ad36-4068-797674c90d8d"
   },
   "outputs": [
    {
     "data": {
      "image/png": "[encoded data removed]",
      "text/plain": [
       "<matplotlib.figure.Figure at 0x113f91b00>"
      ]
     },
     "metadata": {},
     "output_type": "display_data"
    }
   ],
   "source": [
    "f, ax = plt.subplots(figsize=(4, 4))\n",
    "plt.pie(data['editors_choice'].value_counts().tolist(), \n",
    "        labels=['No', 'Yes'], colors=['#fcaf45', '#ffdc80'], \n",
    "        autopct='%1.1f%%', startangle=90)\n",
    "axis = plt.axis('equal')"
   ]
  },
  {
   "cell_type": "markdown",
   "metadata": {
    "_cell_guid": "0de20190-004d-34e1-7e88-d5fe1557a70a"
   },
   "source": [
    "## Genre"
   ]
  },
  {
   "cell_type": "code",
   "execution_count": 14,
   "metadata": {
    "_cell_guid": "b38be138-542b-9f86-c0fb-f1cae77c14eb"
   },
   "outputs": [
    {
     "data": {
      "text/plain": [
       "Action               3797\n",
       "Sports               1916\n",
       "Shooter              1610\n",
       "Racing               1228\n",
       "Adventure            1175\n",
       "Strategy             1071\n",
       "RPG                   980\n",
       "Platformer            823\n",
       "Puzzle                776\n",
       "Action, Adventure     765\n",
       "Simulation            567\n",
       "Fighting              547\n",
       "Music                 371\n",
       "Action, RPG           330\n",
       "Racing, Action        210\n",
       "Name: genre, dtype: int64"
      ]
     },
     "execution_count": 14,
     "metadata": {},
     "output_type": "execute_result"
    }
   ],
   "source": [
    "data['genre'].value_counts()[0:15]"
   ]
  },
  {
   "cell_type": "markdown",
   "metadata": {
    "_cell_guid": "bf531460-ac27-49b5-801e-5fb25c9e1ee9"
   },
   "source": [
    "## Good games"
   ]
  },
  {
   "cell_type": "code",
   "execution_count": 15,
   "metadata": {
    "_cell_guid": "ddf3b47a-6753-7702-e95a-114f66326544"
   },
   "outputs": [],
   "source": [
    "scores = data['score']"
   ]
  },
  {
   "cell_type": "code",
   "execution_count": 16,
   "metadata": {
    "_cell_guid": "787a5de1-440b-6306-4096-6eee5ce70825"
   },
   "outputs": [],
   "source": [
    "years = data['release_year']\n",
    "months = data['release_month']\n",
    "days = data['release_day']"
   ]
  },
  {
   "cell_type": "code",
   "execution_count": 17,
   "metadata": {
    "_cell_guid": "c3973117-8378-e3ec-da26-ad768d8f3963"
   },
   "outputs": [],
   "source": [
    "all_games_by_years = dict(years.value_counts().sort_values())\n",
    "all_games_by_months = dict(months.value_counts().sort_values())\n",
    "all_games_by_days = dict(days.value_counts().sort_values())"
   ]
  },
  {
   "cell_type": "code",
   "execution_count": 18,
   "metadata": {
    "_cell_guid": "158c8aad-2dd0-1a4e-9c5a-f57a3bc46514"
   },
   "outputs": [],
   "source": [
    "good_games_by_years = dict()\n",
    "good_games_by_months = dict()\n",
    "good_games_by_days = dict()"
   ]
  },
  {
   "cell_type": "code",
   "execution_count": 19,
   "metadata": {
    "_cell_guid": "7a45147c-31e9-3276-8c13-a31e0935749b"
   },
   "outputs": [],
   "source": [
    "for (year, month, day, score) in zip(years, months, days, scores):\n",
    "    if (score > 7.0):\n",
    "        for (period, good_games_dict) in zip([year, month, day],\n",
    "                                             [good_games_by_years, \n",
    "                                              good_games_by_months, \n",
    "                                              good_games_by_days]):\n",
    "            if period not in good_games_dict:\n",
    "                good_games_dict[period] = 1\n",
    "            else:\n",
    "                good_games_dict[period] += 1"
   ]
  },
  {
   "cell_type": "markdown",
   "metadata": {
    "_cell_guid": "acd25bc8-3cac-72a4-9c30-4349adb4ce1d"
   },
   "source": [
    "### By year"
   ]
  },
  {
   "cell_type": "code",
   "execution_count": 20,
   "metadata": {
    "_cell_guid": "37a5e1e7-b8e5-27d5-07c8-0a82963297a5"
   },
   "outputs": [
    {
     "data": {
      "image/png": "[encoded data removed]",
      "text/plain": [
       "<matplotlib.figure.Figure at 0x117919ac8>"
      ]
     },
     "metadata": {},
     "output_type": "display_data"
    }
   ],
   "source": [
    "fig, ax = plt.subplots(figsize=(11, 4))\n",
    "\n",
    "sns.barplot(x=list(all_games_by_years.keys()), y=list(all_games_by_years.values()), color='#ffdc80')\n",
    "sns.barplot(x=list(good_games_by_years.keys()), y=list(good_games_by_years.values()), color='#405de6')\n",
    "\n",
    "ax.set(ylabel=\"Count\", xlabel=\"Year\")\n",
    "ticks = plt.setp(ax.get_xticklabels(), rotation=30, fontsize=9)"
   ]
  },
  {
   "cell_type": "markdown",
   "metadata": {
    "_cell_guid": "2daf07ae-c1bb-fad4-e0f9-799c850f6be8"
   },
   "source": [
    "### By month"
   ]
  },
  {
   "cell_type": "code",
   "execution_count": 21,
   "metadata": {
    "_cell_guid": "aef1a607-90d1-8f30-4750-d2cd7e2a3f7c"
   },
   "outputs": [
    {
     "data": {
      "image/png": "[encoded data removed]",
      "text/plain": [
       "<matplotlib.figure.Figure at 0x1176f6dd8>"
      ]
     },
     "metadata": {},
     "output_type": "display_data"
    }
   ],
   "source": [
    "fig, ax = plt.subplots(figsize=(11, 4))\n",
    "\n",
    "sns.barplot(x=list(all_games_by_months.keys()), y=list(all_games_by_months.values()), color='#ffdc80')\n",
    "sns.barplot(x=list(good_games_by_months.keys()), y=list(good_games_by_months.values()), color='#405de6')\n",
    "\n",
    "ax.set(ylabel=\"Count\", xlabel=\"Month\")\n",
    "ticks = plt.setp(ax.get_xticklabels(), fontsize=9)"
   ]
  },
  {
   "cell_type": "markdown",
   "metadata": {
    "_cell_guid": "b69d41f7-fa6a-abf7-a94c-ac29784cd9d4"
   },
   "source": [
    "### By day"
   ]
  },
  {
   "cell_type": "code",
   "execution_count": 22,
   "metadata": {
    "_cell_guid": "dde49c6e-4ed4-eaee-d8a4-3cf82de28445"
   },
   "outputs": [
    {
     "data": {
      "image/png": "[encoded data removed]",
      "text/plain": [
       "<matplotlib.figure.Figure at 0x1178dd6a0>"
      ]
     },
     "metadata": {},
     "output_type": "display_data"
    }
   ],
   "source": [
    "fig, ax = plt.subplots(figsize=(11, 4))\n",
    "\n",
    "sns.barplot(x=list(all_games_by_days.keys()), y=list(all_games_by_days.values()), color='#ffdc80')\n",
    "sns.barplot(x=list(good_games_by_days.keys()), y=list(good_games_by_days.values()), color='#405de6')\n",
    "\n",
    "ax.set(ylabel=\"Count\", xlabel=\"Day\")\n",
    "ticks = plt.setp(ax.get_xticklabels(), fontsize=9)"
   ]
  },
  {
   "cell_type": "markdown",
   "metadata": {
    "_cell_guid": "ee0c122a-6c0b-56f1-c2ed-0b68c4bc5f09"
   },
   "source": [
    "## Best games"
   ]
  },
  {
   "cell_type": "code",
   "execution_count": 23,
   "metadata": {
    "_cell_guid": "eae2e550-f4cc-7cee-ca19-a53aa6d32377"
   },
   "outputs": [],
   "source": [
    "years = sorted(data['release_year'].unique())"
   ]
  },
  {
   "cell_type": "code",
   "execution_count": 24,
   "metadata": {
    "_cell_guid": "b1a72f9b-74fe-e386-f3e1-ee4fbc757f3e"
   },
   "outputs": [
    {
     "name": "stdout",
     "output_type": "stream",
     "text": [
      "1998:\n",
      "The Legend of Zelda: Ocarina of Time\n",
      "\n",
      "1999:\n",
      "Pokemon Blue Version, Pokemon Red Version, Joust, Shanghai, Checkered Flag, Super Mario Bros. Deluxe, Soulcalibur, The Legend of Zelda: Link's Awakening DX, Mario Golf [Game Boy Color], Pokemon Yellow: Special Pikachu Edition, Sonic The Hedgehog: Pocket Adventure\n",
      "\n",
      "2000:\n",
      "SNK vs. Capcom: Match of the Millennium, Magical Tetris Challenge, Metal Gear Solid [2000], Pokemon Gold Version, Pokemon Silver Version\n",
      "\n",
      "2001:\n",
      "The Legend of Zelda: Oracle of Ages, The Legend of Zelda: Oracle of Seasons, Dragon Warrior III\n",
      "\n",
      "2006:\n",
      "Tornado Mania\n",
      "\n",
      "2007:\n",
      "The Legend of Zelda: Ocarina of Time\n",
      "\n",
      "2008:\n",
      "Grand Theft Auto IV (Special Edition), Grand Theft Auto IV (Special Edition), Grand Theft Auto IV, Grand Theft Auto IV, Metal Gear Solid 4: Guns of the Patriots, Metal Gear Solid 4: Guns of the Patriots (Limited Edition)\n",
      "\n",
      "2010:\n",
      "Super Mario Galaxy 2, Pac-Man Championship Edition DX, Pac-Man Championship Edition DX, Red Dead Redemption -- Undead Nightmare, Red Dead Redemption -- Undead Nightmare\n",
      "\n",
      "2011:\n",
      "Chrono Trigger, Uncharted 3: Drake's Deception, Infinity Blade II, The Legend of Zelda: Skyward Sword\n",
      "\n",
      "2013:\n",
      "The Last of Us, Grand Theft Auto V, Grand Theft Auto V\n",
      "\n",
      "2014:\n",
      "The Last of Us: Remastered, Grand Theft Auto V, Grand Theft Auto V\n",
      "\n",
      "2015:\n",
      "Grand Theft Auto V, Metal Gear Solid V: The Phantom Pain, Metal Gear Solid V: The Phantom Pain, Metal Gear Solid V: The Phantom Pain\n",
      "\n",
      "2016:\n",
      "The Witness, The Witness, The Witness, Undertale, Undertale, Inside, Inside, Inside\n",
      "\n"
     ]
    }
   ],
   "source": [
    "for year in years:\n",
    "    curr_year_data = list(data[(data['release_year'] == year) & (data['score'] == 10)]['title'])\n",
    "    if (curr_year_data != []):\n",
    "        print(year, end=':\\n')\n",
    "        print(', '.join(curr_year_data))\n",
    "        print()"
   ]
  }
 ],
 "metadata": {
  "_change_revision": 0,
  "_is_fork": false,
  "kernelspec": {
   "display_name": "Python 3",
   "language": "python",
   "name": "python3"
  },
  "language_info": {
   "codemirror_mode": {
    "name": "ipython",
    "version": 3
   },
   "file_extension": ".py",
   "mimetype": "text/x-python",
   "name": "python",
   "nbconvert_exporter": "python",
   "pygments_lexer": "ipython3",
   "version": "3.6.4"
  }
 },
 "nbformat": 4,
 "nbformat_minor": 1
}
